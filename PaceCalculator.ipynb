{
 "cells": [
  {
   "cell_type": "markdown",
   "metadata": {},
   "source": [
    "### Example run:\n",
    "- Distance 21.01 km\n",
    "- Pace 7:49/km\n",
    "- Time 2h 44m\n",
    "\n",
    "### Another example:\n",
    "- Distance 6.44 km\n",
    "- Pace 7:20/km\n",
    "- Time 47m 16s\n",
    "\n",
    "This is something similar to the end product:\n",
    "https://www.xconvert.com/unit-converter/minutes-per-kilometre-to-minutes-per-mile"
   ]
  },
  {
   "cell_type": "code",
   "execution_count": null,
   "metadata": {},
   "outputs": [],
   "source": [
    "import pandas as pd"
   ]
  },
  {
   "cell_type": "code",
   "execution_count": null,
   "metadata": {},
   "outputs": [],
   "source": [
    "try:\n",
    "    # Asking user for this time\n",
    "    time = input('Enter your time in the following format: hours, minutes, seconds:')\n",
    "    time = time.split(',')\n",
    "    \n",
    "    # From the input, getting the hours, minutes and seconds\n",
    "    hours = float(time[0])\n",
    "    minutes = float(time[1])\n",
    "    seconds = float(time[2])\n",
    "    \n",
    "except:\n",
    "    print('Please enter time in the correct format: h,m,s:')\n",
    "\n",
    "distance = float(input('What distance did you run? Format: 0.0:'))\n",
    "measurement = input('Are you measuring in kilometers or miles? Please enter: km or m:')"
   ]
  },
  {
   "cell_type": "code",
   "execution_count": null,
   "metadata": {},
   "outputs": [],
   "source": [
    "def paceCalculator(time, distance, measurement):\n",
    "    import streamlit as st\n",
    "    \n",
    "    # Time variable is a string, we can split it into parts [2,44,0] with split, then handle each time part\n",
    "    print(time)\n",
    "    try:\n",
    "        time = time.split(':')\n",
    "        if len(time) != 3:\n",
    "            raise ValueError('Invalid time format. Please enter hours: minutes: and seconds separated by \":\".')\n",
    "        \n",
    "        # Getting time values\n",
    "        hours = float(time[0])\n",
    "        minutes = float(time[1])\n",
    "        seconds = float(time[2])\n",
    "\n",
    "    \n",
    "        # Formatting distance value\n",
    "        distance = float(distance.replace(',', '.'))\n",
    "        if hours > 0:\n",
    "            # Converting seconds to decimals\n",
    "            seconds = seconds/100\n",
    "\n",
    "            # Convert hours to minutes\n",
    "            hours2minutes = hours * 60\n",
    "            minutes = hours2minutes + minutes\n",
    "\n",
    "            # Calculating pace\n",
    "            pace = minutes/float(distance)\n",
    "\n",
    "            # Converting pace decimals into actual minutes\n",
    "            pace_decimals = pace % 1\n",
    "            pace_decimals = (pace_decimals * 60)/100\n",
    "\n",
    "            pace = round(pace - (pace%1) + pace_decimals,2)\n",
    "            \n",
    "        # Need to create code to handle when 0,x,x\n",
    "        else:\n",
    "            # Converting seconds to decimals\n",
    "            seconds = seconds/100\n",
    "            minutes = minutes + seconds\n",
    "            \n",
    "            # Calculating pace\n",
    "            pace = minutes/distance\n",
    "\n",
    "            # Converting pace decimals into actual minutes \n",
    "            pace_decimals = pace % 1\n",
    "            pace_decimals = (pace_decimals * 60)/100\n",
    "\n",
    "            pace = round(pace - (pace%1) + pace_decimals)\n",
    "        \n",
    "        print(f'Your was: {pace}/{measurement}')\n",
    "        return pace\n",
    "            \n",
    "\n",
    "    except ValueError as e:\n",
    "        return str(e)\n",
    "    except ZeroDivisionError:\n",
    "        return 'Division by zero is not allowed'  "
   ]
  },
  {
   "cell_type": "code",
   "execution_count": null,
   "metadata": {},
   "outputs": [],
   "source": [
    "time = input('Enter your time in the following format: hours: minutes: seconds:')\n",
    "print(time)\n",
    "\n",
    "time = time.split(':')\n",
    "if len(time) != 3:\n",
    "    raise ValueError('Invalid time format. Please enter hours, minutes, and seconds separated by commas.')\n",
    "\n",
    "# Getting time values\n",
    "hours = float(time[0])\n",
    "minutes = float(time[1])\n",
    "seconds = float(time[2])"
   ]
  },
  {
   "cell_type": "code",
   "execution_count": null,
   "metadata": {},
   "outputs": [],
   "source": [
    "pace = paceCalculator(time,distance,measurement)"
   ]
  },
  {
   "cell_type": "code",
   "execution_count": null,
   "metadata": {},
   "outputs": [],
   "source": [
    "print(pace)"
   ]
  },
  {
   "cell_type": "code",
   "execution_count": null,
   "metadata": {},
   "outputs": [],
   "source": [
    "pace = 5.53\n",
    "pace_in_miles = (pace * 1.6093491499172796) - ((pace * 1.6093491499172796)%1) +  ((((pace * 1.6093491499172796)%1) * 60)/100)\n",
    "pace_in_miles"
   ]
  },
  {
   "cell_type": "code",
   "execution_count": null,
   "metadata": {},
   "outputs": [],
   "source": [
    "pace = 8.53\n",
    "# (pace / 1.6093491499172796) - ((pace / 1.6093491499172796)%1) +  ((((pace / 1.6093491499172796)%1) * 60)/100)\n",
    "(pace - pace%1 + (pace%1*100)/60)/1.6093491499172796"
   ]
  },
  {
   "cell_type": "code",
   "execution_count": null,
   "metadata": {},
   "outputs": [],
   "source": [
    "pace = 8.53\n",
    "(pace%1*100)/60"
   ]
  },
  {
   "cell_type": "code",
   "execution_count": null,
   "metadata": {},
   "outputs": [],
   "source": [
    "5.53 * 1.609"
   ]
  },
  {
   "cell_type": "code",
   "execution_count": null,
   "metadata": {},
   "outputs": [],
   "source": [
    "def paceConverter(measurement, pace):\n",
    "# Converting pace to the opposite measurement. i.e. km -> m or m -> km\n",
    "    if measurement == 'km' or measurement == 'kilometer' or measurement == 'k':\n",
    "        pace_in_miles = pace * 1.6093491499172796\n",
    "        print('Your pace in miles is:',round(pace_in_miles,3), 'minutes per mile')\n",
    "\n",
    "    elif measurement == 'mi' or measurement == 'miles' or measurement == 'm':\n",
    "        pace_in_kilometers = pace / 1.6093491499172796\n",
    "        print('Your pace in kilometers is:',round(pace_in_kilometers,3), 'minutes per kilometers')"
   ]
  },
  {
   "cell_type": "code",
   "execution_count": null,
   "metadata": {},
   "outputs": [],
   "source": [
    "pace = paceConverter(measurement, pace)"
   ]
  },
  {
   "cell_type": "code",
   "execution_count": null,
   "metadata": {},
   "outputs": [],
   "source": [
    "if hours > 0:\n",
    "    # Converting seconds to decimals\n",
    "    seconds = seconds/100\n",
    "\n",
    "    # Convert hours to minutes\n",
    "    hours = 2 \n",
    "    hours2minutes = hours * 60\n",
    "    minutes = hours2minutes + minutes\n",
    "\n",
    "    # Calculating pace\n",
    "    pace = minutes/distance\n",
    "    conversion_pace = pace\n",
    "\n",
    "    # Converting pace decimals into actual minutes\n",
    "    pace_decimals = pace % 1\n",
    "    pace_decimals = (pace_decimals * 60)/100\n",
    "\n",
    "    pace = round(pace - (pace%1) + pace_decimals,2)\n",
    "    \n",
    "# Need to create code to handle when 0,x,x\n",
    "else:\n",
    "    # Converting seconds to decimals\n",
    "    seconds = seconds/100\n",
    "    minutes = minutes + seconds\n",
    "    \n",
    "    # Calculating pace\n",
    "    pace = minutes/distance\n",
    "    conversion_pace = pace\n",
    "\n",
    "    # Converting pace decimals into actual minutes \n",
    "    pace_decimals = pace % 1\n",
    "    pace_decimals = (pace_decimals * 60)/100\n",
    "\n",
    "    pace = round(pace - (pace%1) + pace_decimals)"
   ]
  },
  {
   "cell_type": "code",
   "execution_count": null,
   "metadata": {},
   "outputs": [],
   "source": [
    "# Printing pace\n",
    "print(f'Your was: {pace}/{format}')"
   ]
  },
  {
   "cell_type": "code",
   "execution_count": null,
   "metadata": {},
   "outputs": [],
   "source": [
    "conversion_pace"
   ]
  },
  {
   "cell_type": "code",
   "execution_count": null,
   "metadata": {},
   "outputs": [],
   "source": [
    "def paceConverter(measurement, pace):\n",
    "    import streamlit as st\n",
    "    pace_conversion = 0\n",
    "    pace = float(pace)\n",
    "# Converting pace to the opposite measurement. i.e. km -> m or m -> km\n",
    "    if measurement == 'km' or measurement == 'kilometer' or measurement == 'k':\n",
    "        pace_conversion = pace * 1.6093491499172796\n",
    "        print('Your pace in miles is:',round(pace_conversion,3), 'minutes per mile')\n",
    "\n",
    "    elif measurement == 'mi' or measurement == 'miles' or measurement == 'm':\n",
    "        pace_conversion = pace / 1.6093491499172796\n",
    "        print('Your pace in kilometers is:',round(pace_conversion,3), 'minutes per kilometers')\n",
    "    \n",
    "    return pace_conversion"
   ]
  },
  {
   "cell_type": "code",
   "execution_count": null,
   "metadata": {},
   "outputs": [],
   "source": [
    "def UnitConverter(measurement, distance):\n",
    "    import streamlit as st\n",
    "    distance_conversion = 0\n",
    "    distance = float(distance)\n",
    "# Converting pace to the opposite measurement. i.e. km -> m or m -> km\n",
    "    if measurement == 'km' or measurement == 'kilometer' or measurement == 'k':\n",
    "        distance_conversion = distance * 1.6093491499172796\n",
    "        print('Your pace in miles is:',round(pace_conversion,3), 'minutes per mile')\n",
    "\n",
    "    elif measurement == 'mi' or measurement == 'miles' or measurement == 'm':\n",
    "        pace_conversion = distance / 1.6093491499172796\n",
    "        print('Your pace in kilometers is:',round(pace_conversion,3), 'minutes per kilometers')\n",
    "    \n",
    "    return distance_conversion"
   ]
  }
 ],
 "metadata": {
  "kernelspec": {
   "display_name": "base",
   "language": "python",
   "name": "python3"
  },
  "language_info": {
   "codemirror_mode": {
    "name": "ipython",
    "version": 3
   },
   "file_extension": ".py",
   "mimetype": "text/x-python",
   "name": "python",
   "nbconvert_exporter": "python",
   "pygments_lexer": "ipython3",
   "version": "3.8.5"
  },
  "orig_nbformat": 4
 },
 "nbformat": 4,
 "nbformat_minor": 2
}
