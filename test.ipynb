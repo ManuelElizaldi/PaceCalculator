{
 "cells": [
  {
   "cell_type": "markdown",
   "metadata": {},
   "source": [
    "### Example run:\n",
    "- Distance 21.01 km\n",
    "- Pace 7:49/km\n",
    "- Time 2h 44m"
   ]
  },
  {
   "cell_type": "code",
   "execution_count": 13,
   "metadata": {},
   "outputs": [],
   "source": [
    "try:\n",
    "    # Asking user for this time\n",
    "    time = input('Enter your time in the following format: hours, minutes, seconds')\n",
    "    time = time.split(',')\n",
    "    \n",
    "    # From the input, getting the hours, minutes and seconds\n",
    "    hours = float(time[0])\n",
    "    minutes = float(time[1])\n",
    "    seconds = float(time[2])\n",
    "    \n",
    "except:\n",
    "    print('Please enter time in the correct format: h,m,s')\n",
    "\n",
    "distance = float(input('What distance did you run? Format: 0.0'))\n",
    "format = input('Are you measuring in kilometers or miles? Please enter: km or m')"
   ]
  },
  {
   "cell_type": "code",
   "execution_count": 10,
   "metadata": {},
   "outputs": [],
   "source": [
    "# Converting seconds to decimals\n",
    "seconds = seconds/100\n",
    "\n",
    "# Convert hours to minutes\n",
    "hours = 2 \n",
    "hours2minutes = hours * 60\n",
    "minutes = hours2minutes + minutes\n",
    "\n",
    "\n",
    "# Calculating pace\n",
    "pace = minutes/distance\n",
    "\n",
    "# Converting pace decimals into actual minutes\n",
    "pace_decimals = pace % 1\n",
    "pace_decimals = (pace_decimals * 60)/100\n",
    "\n",
    "pace = round(pace - (pace%1) + pace_decimals,2)"
   ]
  },
  {
   "cell_type": "code",
   "execution_count": 14,
   "metadata": {},
   "outputs": [
    {
     "name": "stdout",
     "output_type": "stream",
     "text": [
      "Your was: 7.48/km\n"
     ]
    }
   ],
   "source": [
    "# Printing pace\n",
    "print(f'Your was: {pace}/{format}')"
   ]
  },
  {
   "cell_type": "code",
   "execution_count": null,
   "metadata": {},
   "outputs": [],
   "source": [
    "# Converting pace to the opposite format. i.e. km -> m or m -> km"
   ]
  },
  {
   "cell_type": "code",
   "execution_count": null,
   "metadata": {},
   "outputs": [],
   "source": []
  }
 ],
 "metadata": {
  "kernelspec": {
   "display_name": "base",
   "language": "python",
   "name": "python3"
  },
  "language_info": {
   "codemirror_mode": {
    "name": "ipython",
    "version": 3
   },
   "file_extension": ".py",
   "mimetype": "text/x-python",
   "name": "python",
   "nbconvert_exporter": "python",
   "pygments_lexer": "ipython3",
   "version": "3.8.5"
  },
  "orig_nbformat": 4
 },
 "nbformat": 4,
 "nbformat_minor": 2
}
